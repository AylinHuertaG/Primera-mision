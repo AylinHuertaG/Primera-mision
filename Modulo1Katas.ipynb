{
 "cells": [
  {
   "cell_type": "markdown",
   "metadata": {},
   "source": [
    "# Kata del módulo 1."
   ]
  },
  {
   "cell_type": "markdown",
   "metadata": {},
   "source": [
    "## Fecha de hoy."
   ]
  },
  {
   "cell_type": "code",
   "execution_count": 1,
   "metadata": {},
   "outputs": [
    {
     "name": "stdout",
     "output_type": "stream",
     "text": [
      "Today's date is: 2022-02-05\n"
     ]
    }
   ],
   "source": [
    "# Importamos datetime\n",
    "from datetime import date\n",
    "\n",
    "# Se obtiene la fecha del día de hoy\n",
    "today = date.today()\n",
    "\n",
    "# Se muestra el resultado\n",
    "print(\"Today's date is: \"+str(today))"
   ]
  },
  {
   "cell_type": "markdown",
   "metadata": {},
   "source": [
    "## Conversor de parsecs a años luz."
   ]
  },
  {
   "cell_type": "code",
   "execution_count": 3,
   "metadata": {},
   "outputs": [
    {
     "name": "stdout",
     "output_type": "stream",
     "text": [
      "11 parsec, is 35.877159999999996 lightyears\n"
     ]
    }
   ],
   "source": [
    "# Variable que indica el número de parsecs que queremos convertir\n",
    "parsecs = 11\n",
    "\n",
    "# Realizamos la operación que permitirá realizar la conversión considerando: 1 parsec = 3.26156 años luz\n",
    "lightyears = parsecs * 3.26156\n",
    "\n",
    "# Se muestra el resultado\n",
    "print(str(parsecs) + \" parsec, is \" + str(lightyears) + \" lightyears\")"
   ]
  }
 ],
 "metadata": {
  "interpreter": {
   "hash": "fba5ef44a80a15d5c1d56c7ac93b9e85d5b44aabeda48352ea22cb29abdc78c2"
  },
  "kernelspec": {
   "display_name": "Python 3.10.2 64-bit (windows store)",
   "language": "python",
   "name": "python3"
  },
  "language_info": {
   "codemirror_mode": {
    "name": "ipython",
    "version": 3
   },
   "file_extension": ".py",
   "mimetype": "text/x-python",
   "name": "python",
   "nbconvert_exporter": "python",
   "pygments_lexer": "ipython3",
   "version": "3.10.2"
  },
  "orig_nbformat": 4
 },
 "nbformat": 4,
 "nbformat_minor": 2
}
