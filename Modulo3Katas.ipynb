{
 "cells": [
  {
   "cell_type": "markdown",
   "metadata": {},
   "source": [
    "# Kata del módulo 3."
   ]
  },
  {
   "cell_type": "markdown",
   "metadata": {},
   "source": [
    "## Asteroide se acerca a la Tierra."
   ]
  },
  {
   "cell_type": "code",
   "execution_count": 1,
   "metadata": {},
   "outputs": [
    {
     "name": "stdout",
     "output_type": "stream",
     "text": [
      "¡Peligro!, ¡un asteroide se acerca a gran velocidad!\n"
     ]
    }
   ],
   "source": [
    "# Añadir el código necesario para crear una variable que guarde la velocidad del asteroide.\n",
    "# Escribe una expresión de prueba para calcular si necesita una advertencia.\n",
    "# Agregue las instrucciones que se ejecutarán si la expresión de prueba es true o false.\n",
    "\n",
    "velocidad_asteroide = 49 #km/s\n",
    "\n",
    "if velocidad_asteroide > 25:\n",
    "    print('¡Peligro!, ¡un asteroide se acerca a gran velocidad!')\n",
    "else:\n",
    "    print('No existe peligro alguno, ¡ten un buen día!')"
   ]
  },
  {
   "cell_type": "markdown",
   "metadata": {},
   "source": [
    "## Asteroide en el cielo."
   ]
  },
  {
   "cell_type": "code",
   "execution_count": 2,
   "metadata": {},
   "outputs": [
    {
     "name": "stdout",
     "output_type": "stream",
     "text": [
      "No existe peligro ni novedades, ¡ten un buen día!\n"
     ]
    }
   ],
   "source": [
    "# Agrega el código para crear una variable para un asteroide que viaja a 19 km/s\n",
    "# Escribe varias expresiones de prueba para determinar si puedes ver el rayo de luz desde la tierra\n",
    "# Agrega las instrucciones que se ejecutarán si las expresiones de prueba son True o False\n",
    "\n",
    "velocidad_asteroide = 19 #km/s\n",
    "\n",
    "if velocidad_asteroide > 25:\n",
    "    print('¡Peligro!, ¡un asteroide se acerca a gran velocidad!')\n",
    "elif velocidad_asteroide >= 20:\n",
    "    print('¡Mira hacia arriba y busca el asteroide en el cielo!')\n",
    "else:\n",
    "    print('No existe peligro ni novedades, ¡ten un buen día!')"
   ]
  },
  {
   "cell_type": "markdown",
   "metadata": {},
   "source": [
    "## Sistema de advertencia mejorado."
   ]
  },
  {
   "cell_type": "code",
   "execution_count": 3,
   "metadata": {},
   "outputs": [
    {
     "name": "stdout",
     "output_type": "stream",
     "text": [
      "No existe peligro ni novedades, ¡ten un buen día!\n"
     ]
    }
   ],
   "source": [
    "# Agrega el código para crear nuevas variables para la velocidad y el tamaño del asteroide\n",
    "# Para probar el código, prueba con varias velocidades y tamaños\n",
    "# Escribe varias expresiones de prueba o combinaciones de expresiones de prueba para determinar qué mensaje se debe enviar a Tierra.\n",
    "\n",
    "velocidad_asteroide = 19\n",
    "tamano_asteroide = 20\n",
    "\n",
    "if (tamano_asteroide > 25 and tamano_asteroide < 1000) or velocidad_asteroide > 25:\n",
    "    print('¡Peligro!, ¡un asteroide se acerca a gran velocidad!')\n",
    "elif velocidad_asteroide >= 20:\n",
    "    print('¡Mira hacia arriba y busca el asteroide en el cielo!')\n",
    "else:\n",
    "    print('No existe peligro ni novedades, ¡ten un buen día!')"
   ]
  }
 ],
 "metadata": {
  "interpreter": {
   "hash": "fba5ef44a80a15d5c1d56c7ac93b9e85d5b44aabeda48352ea22cb29abdc78c2"
  },
  "kernelspec": {
   "display_name": "Python 3.10.2 64-bit (windows store)",
   "language": "python",
   "name": "python3"
  },
  "language_info": {
   "codemirror_mode": {
    "name": "ipython",
    "version": 3
   },
   "file_extension": ".py",
   "mimetype": "text/x-python",
   "name": "python",
   "nbconvert_exporter": "python",
   "pygments_lexer": "ipython3",
   "version": "3.10.2"
  },
  "orig_nbformat": 4
 },
 "nbformat": 4,
 "nbformat_minor": 2
}
