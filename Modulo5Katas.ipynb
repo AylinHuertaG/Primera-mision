{
 "cells": [
  {
   "cell_type": "markdown",
   "metadata": {},
   "source": [
    "# Kata del módulo 5."
   ]
  },
  {
   "cell_type": "markdown",
   "metadata": {},
   "source": [
    "## Ejercicio 1: Utilizar operadores aritméticos"
   ]
  },
  {
   "cell_type": "code",
   "execution_count": 6,
   "metadata": {},
   "outputs": [
    {
     "name": "stdout",
     "output_type": "stream",
     "text": [
      "La distancia entre la Tierra y Júpiter es de: 628949330 kilómetros\n",
      "La distancia entre la Tierra y Júpiter es de: 390810995.0389724 millas\n"
     ]
    }
   ],
   "source": [
    "# Distancia entre Tierra y Júpiter\n",
    "tierra = 149597870 #km \n",
    "jupiter = 778547200 #km\n",
    "\n",
    "distancia = abs(jupiter - tierra)\n",
    "millas = distancia / 1.609344\n",
    "\n",
    "print(\"La distancia entre la Tierra y Júpiter es de: \"+str(distancia)+\" kilómetros\")\n",
    "print(\"La distancia entre la Tierra y Júpiter es de: \"+str(millas)+\" millas\")"
   ]
  },
  {
   "cell_type": "markdown",
   "metadata": {},
   "source": [
    "## Ejercicio 2: Convierte cadenas en números y usa valores absolutos"
   ]
  },
  {
   "cell_type": "code",
   "execution_count": 9,
   "metadata": {},
   "outputs": [
    {
     "name": "stdout",
     "output_type": "stream",
     "text": [
      "La distancia entre los planetas elegidos es de: 2764300000 kilómetros\n",
      "La distancia entre los planetas elegidos es de: 1716630300.0 millas\n"
     ]
    }
   ],
   "source": [
    "# Almacenar las entradas del usuario\n",
    "#Pista: variable = input(\"¿Cuál es tu nombre?\")\n",
    "\n",
    "planeta1 = input(\"Introduce la distancia entre el sol y el primer planeta en km: \")\n",
    "planeta2 = input(\"Introduce la distancia entre el sol y el segundo planeta en km: \")\n",
    "\n",
    "# Convierte las cadenas de ambos planetas a números enteros\n",
    "valor1 = int(planeta1)\n",
    "valor2 = int(planeta2)\n",
    "\n",
    "# Realizar el cálculo y determinar el valor absoluto\n",
    "distancia_km = abs(valor1 - valor2)\n",
    "\n",
    "# Convertir de KM a Millas\n",
    "distancia_millas = distancia_km * 0.621\n",
    "\n",
    "# Mostramos el resultado\n",
    "print(\"La distancia entre los planetas elegidos es de: \"+str(distancia_km)+\" kilómetros\")\n",
    "print(\"La distancia entre los planetas elegidos es de: \"+str(distancia_millas)+\" millas\")"
   ]
  }
 ],
 "metadata": {
  "interpreter": {
   "hash": "fba5ef44a80a15d5c1d56c7ac93b9e85d5b44aabeda48352ea22cb29abdc78c2"
  },
  "kernelspec": {
   "display_name": "Python 3.10.2 64-bit (windows store)",
   "language": "python",
   "name": "python3"
  },
  "language_info": {
   "codemirror_mode": {
    "name": "ipython",
    "version": 3
   },
   "file_extension": ".py",
   "mimetype": "text/x-python",
   "name": "python",
   "nbconvert_exporter": "python",
   "pygments_lexer": "ipython3",
   "version": "3.10.2"
  },
  "orig_nbformat": 4
 },
 "nbformat": 4,
 "nbformat_minor": 2
}
