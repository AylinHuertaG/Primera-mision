{
 "cells": [
  {
   "cell_type": "markdown",
   "metadata": {},
   "source": [
    "# Kata del módulo 9."
   ]
  },
  {
   "cell_type": "markdown",
   "metadata": {},
   "source": [
    "## Ejercicio: Uso de funciones en Python"
   ]
  },
  {
   "cell_type": "code",
   "execution_count": 7,
   "metadata": {},
   "outputs": [
    {
     "name": "stdout",
     "output_type": "stream",
     "text": [
      "El promedio de los tanques recibidos es: 15.0\n",
      "El promedio de los tanques recibidos es: 15.0\n"
     ]
    }
   ],
   "source": [
    "# Función para leer 3 tanques de combustible y muestre el promedio\n",
    "def informe_combustible(tanque1, tanque2, tanque3):\n",
    "    return f\"\"\"El promedio de los tanques recibidos es: {(tanque1 + tanque2 + tanque3) / 3}\"\"\"\n",
    "\n",
    "# Llamamos a la función que genera el reporte\n",
    "print(informe_combustible(10, 15, 20))\n",
    "\n",
    "# Función promedio \n",
    "def promedio(*args):\n",
    "    suma = sum(*args)\n",
    "    cantidad = len(*args)\n",
    "    return suma / cantidad\n",
    "\n",
    "# Actualiza la función\n",
    "def informe_combustible2(tanque1, tanque2, tanque3):\n",
    "    return f\"\"\"El promedio de los tanques recibidos es: {promedio([tanque1, tanque2, tanque3])}\"\"\"\n",
    "\n",
    "# Llamamos a la nueva función que genera el reporte\n",
    "print(informe_combustible2(10, 15, 20))"
   ]
  },
  {
   "cell_type": "markdown",
   "metadata": {},
   "source": [
    "## Ejercicio 2: Trabajo con argumentos de palabra clave"
   ]
  },
  {
   "cell_type": "code",
   "execution_count": 27,
   "metadata": {},
   "outputs": [
    {
     "name": "stdout",
     "output_type": "stream",
     "text": [
      "El cohete con destino a Moon cuenta con los datos que a continuación se mencionan.\n",
      "    Tiempo de viaje: 65 minutos\n",
      "    Combustible restante: 500000 galones\n",
      "    \n",
      "El cohete con destino a Moon cuenta con los datos que a continuación se mencionan.\n",
      "    Tiempo de viaje: 76 minutos\n",
      "    Combustible restante: 500000 galones\n",
      "    \n",
      "El cohete con destino a Moon cuenta con los datos que a continuación se mencionan.\n",
      "    Tiempo de viaje: 74 minutos\n",
      "    Combustible restante: 500000 galones\n",
      "    main contiene 300000 galones \n",
      "external contiene 200000 galones \n",
      "\n"
     ]
    }
   ],
   "source": [
    "# Función con un informe preciso de la misión. \n",
    "# Considera hora de prelanzamiento, tiempo de vuelo, destino, tanque externo y tanque interno\n",
    "def informe_preciso(prelanzamiento, tiempoVuelo, destino, tanqueExterno, tanqueInterno):\n",
    "    return f\"\"\"El cohete con destino a {destino} cuenta con los datos que a continuación se mencionan.\n",
    "    Tiempo de viaje: {prelanzamiento + tiempoVuelo} minutos\n",
    "    Combustible restante: {tanqueExterno + tanqueInterno} galones\n",
    "    \"\"\"\n",
    "\n",
    "# Probamos la primera función con los datos de ejemplo\n",
    "print(informe_preciso(14, 51, \"Moon\", 200000, 300000))\n",
    "\n",
    "# Escribe tu nueva función de reporte considerando un número indeterminado de argumentos\n",
    "def informe_preciso2(destino, *minutes , **fuel_reservoirs):\n",
    "    return f\"\"\"El cohete con destino a {destino} cuenta con los datos que a continuación se mencionan.\n",
    "    Tiempo de viaje: {sum(minutes)} minutos\n",
    "    Combustible restante: {sum(fuel_reservoirs.values())} galones\n",
    "    \"\"\"\n",
    "\n",
    "# Probamos la segunda función con los datos de ejemplo\n",
    "print(informe_preciso2(\"Moon\", 10, 15, 51, main=300000, external=200000))\n",
    "\n",
    "# Escribe tu nueva función considerando cada tanque\n",
    "def informe_preciso_detallado(destino, *minutes , **fuel_reservoirs):\n",
    "    reporte = f\"\"\"El cohete con destino a {destino} cuenta con los datos que a continuación se mencionan.\n",
    "    Tiempo de viaje: {sum(minutes)} minutos\n",
    "    Combustible restante: {sum(fuel_reservoirs.values())} galones\n",
    "    \"\"\"\n",
    "    for nombre, valor in fuel_reservoirs.items():\n",
    "        reporte = reporte + f\"\"\"{nombre} contiene {valor} galones \\n\"\"\"\n",
    "    return reporte\n",
    "\n",
    "# Probamos la segunda función con los datos de ejemplo\n",
    "print(informe_preciso_detallado(\"Moon\", 8, 11, 55, main=300000, external=200000))"
   ]
  }
 ],
 "metadata": {
  "interpreter": {
   "hash": "fba5ef44a80a15d5c1d56c7ac93b9e85d5b44aabeda48352ea22cb29abdc78c2"
  },
  "kernelspec": {
   "display_name": "Python 3.10.2 64-bit (windows store)",
   "language": "python",
   "name": "python3"
  },
  "language_info": {
   "codemirror_mode": {
    "name": "ipython",
    "version": 3
   },
   "file_extension": ".py",
   "mimetype": "text/x-python",
   "name": "python",
   "nbconvert_exporter": "python",
   "pygments_lexer": "ipython3",
   "version": "3.10.2"
  },
  "orig_nbformat": 4
 },
 "nbformat": 4,
 "nbformat_minor": 2
}
