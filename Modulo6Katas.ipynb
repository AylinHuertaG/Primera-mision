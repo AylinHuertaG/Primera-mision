{
 "cells": [
  {
   "cell_type": "markdown",
   "metadata": {},
   "source": [
    "# Kata del módulo 6."
   ]
  },
  {
   "cell_type": "markdown",
   "metadata": {},
   "source": [
    "## Ejercicio 1: Crear y usar listas de Python"
   ]
  },
  {
   "cell_type": "code",
   "execution_count": 11,
   "metadata": {},
   "outputs": [
    {
     "name": "stdout",
     "output_type": "stream",
     "text": [
      "Tenemos 8 planetas, que son:  ['Mercurio', 'Venus', 'Tierra', 'Marte', 'Jupiter', 'Saturno', 'Urano', 'Nepturno']\n",
      "Ahora tenemos 9 planetas, siendo el último: Pluton\n"
     ]
    }
   ],
   "source": [
    "# Creamos la lista planets y la mostramos\n",
    "planets = ['Mercurio', 'Venus', 'Tierra', 'Marte', 'Jupiter', 'Saturno', 'Urano', 'Nepturno']\n",
    "total_planetas = len(planets)\n",
    "print (\"Tenemos\",total_planetas,\"planetas, que son: \", planets)\n",
    "\n",
    "# Agregamos a plutón y mostramos el último elemento\n",
    "planets.append('Pluton')\n",
    "nuevo_total = len(planets)\n",
    "print (\"Ahora tenemos\",nuevo_total,\"planetas, siendo el último: \"+planets[-1])"
   ]
  },
  {
   "cell_type": "markdown",
   "metadata": {},
   "source": [
    "## Ejercicio 2: Trabajando con datos de una lista"
   ]
  },
  {
   "cell_type": "code",
   "execution_count": 16,
   "metadata": {},
   "outputs": [
    {
     "name": "stdout",
     "output_type": "stream",
     "text": [
      "Los planetas más cercanos al sol que Jupiter son:  ['Mercury', 'Venus', 'Earth', 'Mars']\n",
      "Los planetas más lejanos al sol que Jupiter son:  ['Saturn', 'Neptune']\n"
     ]
    }
   ],
   "source": [
    "# Lista de planetas\n",
    "planets = ['Mercury', 'Venus', 'Earth', 'Mars', 'Jupiter', 'Saturn', 'Neptune']\n",
    "\n",
    "# Solicitamos el nombre de un planeta *Pista:  input()*\n",
    "nuevo_planeta = input(\"Introduce el nombre de cualquier planeta. Por favor, comienza con una letra mayúscula y el resto minúsculas.\")\n",
    "\n",
    "# Busca el planeta en la lista\n",
    "posicion = planets.index(nuevo_planeta)\n",
    "\n",
    "# Busca el planeta en la lista\n",
    "planetas_mas_cercanos = planets[0:posicion]\n",
    "\n",
    "# Muestra los planetas más lejanos al sol\n",
    "planetas_mas_lejanos = planets[posicion+1:]\n",
    "\n",
    "print(\"Los planetas más cercanos al sol que\",nuevo_planeta,\"son: \", planetas_mas_cercanos)\n",
    "print(\"Los planetas más lejanos al sol que\",nuevo_planeta,\"son: \", planetas_mas_lejanos)"
   ]
  }
 ],
 "metadata": {
  "interpreter": {
   "hash": "fba5ef44a80a15d5c1d56c7ac93b9e85d5b44aabeda48352ea22cb29abdc78c2"
  },
  "kernelspec": {
   "display_name": "Python 3.10.2 64-bit (windows store)",
   "language": "python",
   "name": "python3"
  },
  "language_info": {
   "codemirror_mode": {
    "name": "ipython",
    "version": 3
   },
   "file_extension": ".py",
   "mimetype": "text/x-python",
   "name": "python",
   "nbconvert_exporter": "python",
   "pygments_lexer": "ipython3",
   "version": "3.10.2"
  },
  "orig_nbformat": 4
 },
 "nbformat": 4,
 "nbformat_minor": 2
}
