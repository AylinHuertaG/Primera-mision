{
 "cells": [
  {
   "cell_type": "markdown",
   "metadata": {},
   "source": [
    "# Kata del módulo 4."
   ]
  },
  {
   "cell_type": "markdown",
   "metadata": {},
   "source": [
    "## Ejercicio 1: Transformar cadenas"
   ]
  },
  {
   "cell_type": "code",
   "execution_count": 2,
   "metadata": {},
   "outputs": [
    {
     "name": "stdout",
     "output_type": "stream",
     "text": [
      "\n",
      "On average, the Moon moves 4cm away from the Earth every year\n",
      "The highest daylight temperature of the Moon is 127 C.\n",
      "\n",
      "On average, the Moon moves 4cm away from the Earth every year\n",
      "The highest daylight temperature of the Moon is 127 Celsius.\n"
     ]
    }
   ],
   "source": [
    "text = \"\"\"Interesting facts about the Moon. The Moon is Earth's only satellite. There are several interesting facts about the Moon and how it affects life here on Earth. \n",
    "On average, the Moon moves 4cm away from the Earth every year. This yearly drift is not significant enough to cause immediate effects on Earth. The highest daylight temperature of the Moon is 127 C.\"\"\"\n",
    "\n",
    "# Primero, divide el texto en cada oración para trabajar con su contenido:\n",
    "texto_dividido = text.split(\". \")\n",
    "\n",
    "# Ahora, define algunas palabras clave para búsqueda que te ayudarán a determinar si una oración contiene un hecho.\n",
    "# Define las palabras pista: average, temperature y distance suenan bien\n",
    "palabras_clave = [\"average\", \"temperature\", \"distance\"]\n",
    "\n",
    "# Crea un bucle para imprimir solo datos sobre la Luna que estén relacionados con las palabras clave definidas anteriormente.\n",
    "# Ciclo for para recorrer la cadena\n",
    "for oracion in texto_dividido:\n",
    "    for palabra in palabras_clave:\n",
    "        if palabra in oracion:\n",
    "            print(oracion)\n",
    "            break\n",
    "\n",
    "# Finalmente, actualiza el bucle(ciclo) para cambiar C a Celsius.\n",
    "for oracion in texto_dividido:\n",
    "    for palabra in palabras_clave:\n",
    "        if palabra in oracion:\n",
    "            print(oracion.replace('C', 'Celsius'))\n",
    "            break"
   ]
  },
  {
   "cell_type": "markdown",
   "metadata": {},
   "source": [
    "## Ejercicio 2: Formateando Cadenas"
   ]
  },
  {
   "cell_type": "code",
   "execution_count": 3,
   "metadata": {},
   "outputs": [
    {
     "name": "stdout",
     "output_type": "stream",
     "text": [
      "Gravedad En Moon\n",
      "-------------------------------------------------------------------------------\n",
      " Planet Name: Earth\n",
      " Gravity on Moon: 1.62 m/s2\n",
      "Gravedad En Marte \n",
      "-------------------------------------------------------------------------------\n",
      " Planet Name: Ganímedes\n",
      " Gravity on Marte : 1.43 m/s2\n"
     ]
    }
   ],
   "source": [
    "# Datos con los que vas a trabajar\n",
    "name = \"Moon\"\n",
    "gravity = 0.00162 # in kms\n",
    "planet = \"Earth\"\n",
    "\n",
    "# Creamos el título\n",
    "titulo = f\"\"\"Gravedad en {name}\"\"\".title()\n",
    "\n",
    "# Creamos una plantilla de cadena multilínea para contener el resto de la información. \n",
    "# En lugar de usar kilómetros, debes convertir la distancia a metros multiplicando por 1,000.\n",
    "plantilla = f\"\"\"-------------------------------------------------------------------------------\n",
    " Planet Name: {planet}\n",
    " Gravity on {name}: {round(gravity*1000, 2)} m/s2\"\"\"\n",
    "\n",
    "# Unión de ambas cadenas\n",
    "union = f\"\"\"{titulo}\n",
    "{plantilla}\"\"\"\n",
    "\n",
    "# Se muestra el resultado\n",
    "print(union)\n",
    "\n",
    "# Nuevos datos de muestra \n",
    "name = 'Marte '\n",
    "gravity  = 0.00143\n",
    "planet = 'Ganímedes'\n",
    "\n",
    "# Comprueba la plantilla\n",
    "#print(union)\n",
    "\n",
    "# Nueva plantilla con .format()\n",
    "nuevo_titulo = \"Gravedad en {nombre}\".format(nombre=name).title()\n",
    "plantilla_format = \"\"\"-------------------------------------------------------------------------------\n",
    " Planet Name: {planeta}\n",
    " Gravity on {nombre}: {gravedad} m/s2\"\"\".format(planeta=planet, nombre=name, gravedad=round(gravity*1000, 2))\n",
    "\n",
    "# Se muestra el resultado\n",
    "print(nuevo_titulo+\"\\n\"+plantilla_format)"
   ]
  }
 ],
 "metadata": {
  "interpreter": {
   "hash": "fba5ef44a80a15d5c1d56c7ac93b9e85d5b44aabeda48352ea22cb29abdc78c2"
  },
  "kernelspec": {
   "display_name": "Python 3.10.2 64-bit (windows store)",
   "language": "python",
   "name": "python3"
  },
  "language_info": {
   "codemirror_mode": {
    "name": "ipython",
    "version": 3
   },
   "file_extension": ".py",
   "mimetype": "text/x-python",
   "name": "python",
   "nbconvert_exporter": "python",
   "pygments_lexer": "ipython3",
   "version": "3.10.2"
  },
  "orig_nbformat": 4
 },
 "nbformat": 4,
 "nbformat_minor": 2
}
